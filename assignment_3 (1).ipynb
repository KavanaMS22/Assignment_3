{
  "nbformat": 4,
  "nbformat_minor": 0,
  "metadata": {
    "colab": {
      "provenance": []
    },
    "kernelspec": {
      "name": "python3",
      "display_name": "Python 3"
    },
    "language_info": {
      "name": "python"
    }
  },
  "cells": [
    {
      "cell_type": "markdown",
      "source": [
        "Name : Kavana M S    Date : 15-09-2024"
      ],
      "metadata": {
        "id": "ncuVkx9Ntu0X"
      }
    },
    {
      "cell_type": "markdown",
      "source": [
        "Part 1: Basic Slicing:\n",
        "1. Introduction to slicing:\n",
        " a) Given a string s = \"Hello, World!\", slice and print the following:\n",
        "i. The entire string.\n"
      ],
      "metadata": {
        "id": "WieAjvMrNUmP"
      }
    },
    {
      "cell_type": "code",
      "source": [
        "s = \"Hello, World!\"\n",
        "print(s)"
      ],
      "metadata": {
        "colab": {
          "base_uri": "https://localhost:8080/"
        },
        "id": "CWo-DBK-OgxD",
        "outputId": "f92e5722-409e-409a-a0bd-e237f615ba3b"
      },
      "execution_count": 1,
      "outputs": [
        {
          "output_type": "stream",
          "name": "stdout",
          "text": [
            "Hello, World!\n"
          ]
        }
      ]
    },
    {
      "cell_type": "markdown",
      "source": [
        "ii. The first 5 characters."
      ],
      "metadata": {
        "id": "4NrM2wHQOrhq"
      }
    },
    {
      "cell_type": "code",
      "source": [
        "s = \"Hello, World!\"\n",
        "s[0:5] #print first 5 characters"
      ],
      "metadata": {
        "colab": {
          "base_uri": "https://localhost:8080/",
          "height": 35
        },
        "id": "TZdqK0CHOm6R",
        "outputId": "d672758c-32dd-434d-d502-e10171ee7b90"
      },
      "execution_count": 6,
      "outputs": [
        {
          "output_type": "execute_result",
          "data": {
            "text/plain": [
              "'Hello'"
            ],
            "application/vnd.google.colaboratory.intrinsic+json": {
              "type": "string"
            }
          },
          "metadata": {},
          "execution_count": 6
        }
      ]
    },
    {
      "cell_type": "markdown",
      "source": [
        "iii. The last 5 characters."
      ],
      "metadata": {
        "id": "6bYEAt5AOqVA"
      }
    },
    {
      "cell_type": "code",
      "source": [
        "s = \"Hello, World!\"\n",
        "s[7:12] #print last 5 characters"
      ],
      "metadata": {
        "colab": {
          "base_uri": "https://localhost:8080/",
          "height": 35
        },
        "id": "IkUX0LqFPnvF",
        "outputId": "b9ba8040-b721-4344-d6c6-ad5c7b9d951d"
      },
      "execution_count": 8,
      "outputs": [
        {
          "output_type": "execute_result",
          "data": {
            "text/plain": [
              "'World'"
            ],
            "application/vnd.google.colaboratory.intrinsic+json": {
              "type": "string"
            }
          },
          "metadata": {},
          "execution_count": 8
        }
      ]
    },
    {
      "cell_type": "markdown",
      "source": [
        "iv. The string excludes the first and last characters.\n"
      ],
      "metadata": {
        "id": "7werDKobP6iF"
      }
    },
    {
      "cell_type": "code",
      "source": [
        "s = \"Hello, World!\"\n",
        "s[1:11] # printing the string excludes the first and last characters."
      ],
      "metadata": {
        "colab": {
          "base_uri": "https://localhost:8080/",
          "height": 35
        },
        "id": "rzJXFJypPyDi",
        "outputId": "a5b7c734-8120-4d62-a791-ccc845680058"
      },
      "execution_count": 9,
      "outputs": [
        {
          "output_type": "execute_result",
          "data": {
            "text/plain": [
              "'ello, Worl'"
            ],
            "application/vnd.google.colaboratory.intrinsic+json": {
              "type": "string"
            }
          },
          "metadata": {},
          "execution_count": 9
        }
      ]
    },
    {
      "cell_type": "markdown",
      "source": [
        "v. Every second character in the string."
      ],
      "metadata": {
        "id": "Bf40FhiKQIAU"
      }
    },
    {
      "cell_type": "code",
      "source": [
        "s = \"Hello, World!\"\n",
        "s[0::2] #printing every second character in the string."
      ],
      "metadata": {
        "colab": {
          "base_uri": "https://localhost:8080/",
          "height": 35
        },
        "id": "bfrJYM-hQGPv",
        "outputId": "7b6ab79b-ba89-4f29-f240-160249e0dce8"
      },
      "execution_count": 11,
      "outputs": [
        {
          "output_type": "execute_result",
          "data": {
            "text/plain": [
              "'Hlo ol!'"
            ],
            "application/vnd.google.colaboratory.intrinsic+json": {
              "type": "string"
            }
          },
          "metadata": {},
          "execution_count": 11
        }
      ]
    },
    {
      "cell_type": "markdown",
      "source": [
        "2. Slicing with Negative Indices:\n",
        "a. Use negative indices to slice and print the following from the string\n",
        "s:\n",
        "a. The last 3 characters.\n",
        "\n"
      ],
      "metadata": {
        "id": "I9KNIuX8Q33H"
      }
    },
    {
      "cell_type": "code",
      "source": [
        "s = \"Hello, World!\"\n",
        "s[:-4:-1] #printing the last 3 characters"
      ],
      "metadata": {
        "colab": {
          "base_uri": "https://localhost:8080/",
          "height": 35
        },
        "id": "slfdwOdmRDY9",
        "outputId": "fd126f63-ffc8-49ce-af8d-b1275d20d0a2"
      },
      "execution_count": 20,
      "outputs": [
        {
          "output_type": "execute_result",
          "data": {
            "text/plain": [
              "'!dl'"
            ],
            "application/vnd.google.colaboratory.intrinsic+json": {
              "type": "string"
            }
          },
          "metadata": {},
          "execution_count": 20
        }
      ]
    },
    {
      "cell_type": "markdown",
      "source": [
        "b. All characters except the last 2."
      ],
      "metadata": {
        "id": "zp9kaIC6ZCSf"
      }
    },
    {
      "cell_type": "code",
      "source": [
        "s = \"Hello, World!\"\n",
        "s[:-2] #printing all characters except the last 2"
      ],
      "metadata": {
        "colab": {
          "base_uri": "https://localhost:8080/",
          "height": 35
        },
        "id": "ywBC9VfPY58l",
        "outputId": "2d8ffb88-2001-4611-fe63-75feec8692ba"
      },
      "execution_count": 15,
      "outputs": [
        {
          "output_type": "execute_result",
          "data": {
            "text/plain": [
              "'Hello, Worl'"
            ],
            "application/vnd.google.colaboratory.intrinsic+json": {
              "type": "string"
            }
          },
          "metadata": {},
          "execution_count": 15
        }
      ]
    },
    {
      "cell_type": "markdown",
      "source": [
        "c. The string reversed."
      ],
      "metadata": {
        "id": "ww7U6POqZqGb"
      }
    },
    {
      "cell_type": "code",
      "source": [
        "s = \"Hello, World!\"\n",
        "s[::-1] #reversing of the string"
      ],
      "metadata": {
        "colab": {
          "base_uri": "https://localhost:8080/",
          "height": 35
        },
        "id": "oO_yjAarZOva",
        "outputId": "b5fa030b-6b1d-4d33-baf1-4ceb34dc1ccc"
      },
      "execution_count": 21,
      "outputs": [
        {
          "output_type": "execute_result",
          "data": {
            "text/plain": [
              "'!dlroW ,olleH'"
            ],
            "application/vnd.google.colaboratory.intrinsic+json": {
              "type": "string"
            }
          },
          "metadata": {},
          "execution_count": 21
        }
      ]
    },
    {
      "cell_type": "markdown",
      "source": [
        "Part 2: Advanced Slicing\n",
        "1. Slicing Substrings:\n",
        "a. Given a string sentence = \"The quick brown fox jumps over the lazy\n",
        "dog\", slice and print the following:\n",
        "i. The word \"quick\""
      ],
      "metadata": {
        "id": "QgaucFlaZ_lc"
      }
    },
    {
      "cell_type": "code",
      "source": [
        "sentence = \"The quick brown fox jumps over the lazy dog\"\n",
        "sentence[4:9] #printing the word \"quick\""
      ],
      "metadata": {
        "colab": {
          "base_uri": "https://localhost:8080/",
          "height": 35
        },
        "id": "_4dEyr_wZ4_n",
        "outputId": "8356a248-71d8-453e-d25a-b9da8a06deea"
      },
      "execution_count": 27,
      "outputs": [
        {
          "output_type": "execute_result",
          "data": {
            "text/plain": [
              "'quick'"
            ],
            "application/vnd.google.colaboratory.intrinsic+json": {
              "type": "string"
            }
          },
          "metadata": {},
          "execution_count": 27
        }
      ]
    },
    {
      "cell_type": "markdown",
      "source": [
        "ii. The word \"lazy\"."
      ],
      "metadata": {
        "id": "9yOh3Lk4aieC"
      }
    },
    {
      "cell_type": "code",
      "source": [
        "sentence = \"The quick brown fox jumps over the lazy dog\"\n",
        "sentence[35:39] #printing the word \"lazy\""
      ],
      "metadata": {
        "colab": {
          "base_uri": "https://localhost:8080/",
          "height": 35
        },
        "id": "sfvybxw1aRvS",
        "outputId": "9503ea70-e446-4676-e463-185f6651c3c8"
      },
      "execution_count": 29,
      "outputs": [
        {
          "output_type": "execute_result",
          "data": {
            "text/plain": [
              "'lazy'"
            ],
            "application/vnd.google.colaboratory.intrinsic+json": {
              "type": "string"
            }
          },
          "metadata": {},
          "execution_count": 29
        }
      ]
    },
    {
      "cell_type": "markdown",
      "source": [
        "iii. The words \"brown fox jumps\""
      ],
      "metadata": {
        "id": "ZnBV5LAva-N7"
      }
    },
    {
      "cell_type": "code",
      "source": [
        "sentence = \"The quick brown fox jumps over the lazy dog\"\n",
        "sentence[10:25] #printing the words \"brown fox jumps\""
      ],
      "metadata": {
        "colab": {
          "base_uri": "https://localhost:8080/",
          "height": 35
        },
        "id": "PgpMKW2pacfL",
        "outputId": "b8217fa5-bd6d-4253-fcbd-9c714faf606d"
      },
      "execution_count": 31,
      "outputs": [
        {
          "output_type": "execute_result",
          "data": {
            "text/plain": [
              "'brown fox jumps'"
            ],
            "application/vnd.google.colaboratory.intrinsic+json": {
              "type": "string"
            }
          },
          "metadata": {},
          "execution_count": 31
        }
      ]
    },
    {
      "cell_type": "markdown",
      "source": [
        "2. Step Slicing:\n",
        "a. Use step slicing to print the following from the string s:\n",
        "i. Every third character.\n"
      ],
      "metadata": {
        "id": "qz5PmsZGbKkM"
      }
    },
    {
      "cell_type": "code",
      "source": [
        "a = \"welcome to python\"\n",
        "a[::3] #printing every third character"
      ],
      "metadata": {
        "colab": {
          "base_uri": "https://localhost:8080/",
          "height": 35
        },
        "id": "dJOzGTThbC88",
        "outputId": "85994b0a-c4f1-4934-cf46-7c02bf291607"
      },
      "execution_count": 33,
      "outputs": [
        {
          "output_type": "execute_result",
          "data": {
            "text/plain": [
              "'wceoyo'"
            ],
            "application/vnd.google.colaboratory.intrinsic+json": {
              "type": "string"
            }
          },
          "metadata": {},
          "execution_count": 33
        }
      ]
    },
    {
      "cell_type": "markdown",
      "source": [
        "ii. Every third character starting from the second character."
      ],
      "metadata": {
        "id": "F_vRH_yfbigV"
      }
    },
    {
      "cell_type": "code",
      "source": [
        "a = \"welcome to python\"\n",
        "a[1::3] #printing every third character starting from the second character"
      ],
      "metadata": {
        "colab": {
          "base_uri": "https://localhost:8080/",
          "height": 35
        },
        "id": "B9AYBZm5bZG8",
        "outputId": "af227425-411f-4055-dee9-0c62e3e75f5d"
      },
      "execution_count": 36,
      "outputs": [
        {
          "output_type": "execute_result",
          "data": {
            "text/plain": [
              "'eo  tn'"
            ],
            "application/vnd.google.colaboratory.intrinsic+json": {
              "type": "string"
            }
          },
          "metadata": {},
          "execution_count": 36
        }
      ]
    },
    {
      "cell_type": "markdown",
      "source": [
        "iii. The string reversed, stepping by 2."
      ],
      "metadata": {
        "id": "lYUAzg0PfS87"
      }
    },
    {
      "cell_type": "code",
      "source": [
        "a = \"welcome to python\"\n",
        "a[::-2] #printing the string reversed, stepping by 2"
      ],
      "metadata": {
        "colab": {
          "base_uri": "https://localhost:8080/",
          "height": 35
        },
        "id": "-BU_0ywGbsDj",
        "outputId": "f860854b-c42b-4638-8588-0b9019933305"
      },
      "execution_count": 37,
      "outputs": [
        {
          "output_type": "execute_result",
          "data": {
            "text/plain": [
              "'nhy teolw'"
            ],
            "application/vnd.google.colaboratory.intrinsic+json": {
              "type": "string"
            }
          },
          "metadata": {},
          "execution_count": 37
        }
      ]
    },
    {
      "cell_type": "markdown",
      "source": [
        "Part 3: Practical Application\n",
        "1. Extracting Information:\n",
        "a. Given a string data = \"2024-09-01,Sunny,25°C\", extract and print\n",
        "the following:\n",
        "i. The date."
      ],
      "metadata": {
        "id": "GwI7ACRVficq"
      }
    },
    {
      "cell_type": "code",
      "source": [
        "data = \"2024-09-01,Sunny,25°C\"\n",
        "data[0:10] #printing the date"
      ],
      "metadata": {
        "colab": {
          "base_uri": "https://localhost:8080/",
          "height": 35
        },
        "id": "kTbziRYgfb0e",
        "outputId": "1ca5f64f-d9c8-4746-e1bc-609ffb20235c"
      },
      "execution_count": 38,
      "outputs": [
        {
          "output_type": "execute_result",
          "data": {
            "text/plain": [
              "'2024-09-01'"
            ],
            "application/vnd.google.colaboratory.intrinsic+json": {
              "type": "string"
            }
          },
          "metadata": {},
          "execution_count": 38
        }
      ]
    },
    {
      "cell_type": "markdown",
      "source": [
        "ii. The weather condition."
      ],
      "metadata": {
        "id": "axPRUoILf8za"
      }
    },
    {
      "cell_type": "code",
      "source": [
        "data = \"2024-09-01,Sunny,25°C\"\n",
        "data[11:16] #printing the weather condition"
      ],
      "metadata": {
        "colab": {
          "base_uri": "https://localhost:8080/",
          "height": 35
        },
        "id": "EBjxeQIRf5IL",
        "outputId": "c413046b-55df-47a0-c939-70f60d06f233"
      },
      "execution_count": 39,
      "outputs": [
        {
          "output_type": "execute_result",
          "data": {
            "text/plain": [
              "'Sunny'"
            ],
            "application/vnd.google.colaboratory.intrinsic+json": {
              "type": "string"
            }
          },
          "metadata": {},
          "execution_count": 39
        }
      ]
    },
    {
      "cell_type": "markdown",
      "source": [
        "iii. The temperature"
      ],
      "metadata": {
        "id": "Z0Ir4y9wgFlD"
      }
    },
    {
      "cell_type": "code",
      "source": [
        "data = \"2024-09-01,Sunny,25°C\"\n",
        "data[17:21] #printing the temperature"
      ],
      "metadata": {
        "colab": {
          "base_uri": "https://localhost:8080/",
          "height": 35
        },
        "id": "lVCmVt1cgCIO",
        "outputId": "e8184c26-2f7b-4edf-e593-ba718cb848fc"
      },
      "execution_count": 41,
      "outputs": [
        {
          "output_type": "execute_result",
          "data": {
            "text/plain": [
              "'25°C'"
            ],
            "application/vnd.google.colaboratory.intrinsic+json": {
              "type": "string"
            }
          },
          "metadata": {},
          "execution_count": 41
        }
      ]
    },
    {
      "cell_type": "markdown",
      "source": [
        "2. Reformatting Strings:\n",
        "i. Given a string phone_number = \"(123) 456-7890\", reformat\n",
        "it to ‘123-456-7890’"
      ],
      "metadata": {
        "id": "GIK65mwbgQ5w"
      }
    },
    {
      "cell_type": "code",
      "source": [
        "phone_number = \"(123) 456-7890\"\n",
        "phone_number[1:4] +\"-\"+ phone_number[6:9] +\"-\"+ phone_number[10:14] #reformatting the string"
      ],
      "metadata": {
        "colab": {
          "base_uri": "https://localhost:8080/",
          "height": 35
        },
        "id": "4q5id3K3gKpf",
        "outputId": "7b70c9b0-2019-45cc-bd42-14762e37b72d"
      },
      "execution_count": 43,
      "outputs": [
        {
          "output_type": "execute_result",
          "data": {
            "text/plain": [
              "'123-456-7890'"
            ],
            "application/vnd.google.colaboratory.intrinsic+json": {
              "type": "string"
            }
          },
          "metadata": {},
          "execution_count": 43
        }
      ]
    },
    {
      "cell_type": "markdown",
      "source": [
        "Part 4: Questions based on string methods\n",
        "1. Upper and Lower Case Conversion:\n",
        "i. Given a string s = \"Hello, World!\", perform the following:\n",
        "a. Convert the string to all uppercase letters."
      ],
      "metadata": {
        "id": "pZ9kWkfYgtth"
      }
    },
    {
      "cell_type": "code",
      "source": [
        "s = \"Hello, World!\"\n",
        "s.upper() # Converting the string to all uppercase letters."
      ],
      "metadata": {
        "colab": {
          "base_uri": "https://localhost:8080/",
          "height": 35
        },
        "id": "DqXymMdpgc0s",
        "outputId": "c05354e6-0e16-43e5-f145-fc7a6730b7b9"
      },
      "execution_count": 44,
      "outputs": [
        {
          "output_type": "execute_result",
          "data": {
            "text/plain": [
              "'HELLO, WORLD!'"
            ],
            "application/vnd.google.colaboratory.intrinsic+json": {
              "type": "string"
            }
          },
          "metadata": {},
          "execution_count": 44
        }
      ]
    },
    {
      "cell_type": "markdown",
      "source": [
        "b)  Convert the string to all lowercase letters."
      ],
      "metadata": {
        "id": "QHuiNjfRg-q0"
      }
    },
    {
      "cell_type": "code",
      "source": [
        "s = \"Hello, World!\"\n",
        "s.lower() # Converting the string to all lowercase letters."
      ],
      "metadata": {
        "colab": {
          "base_uri": "https://localhost:8080/",
          "height": 35
        },
        "id": "_3FqYqPYg6SD",
        "outputId": "31023793-4d68-4962-a31e-fdbf7de995f5"
      },
      "execution_count": 45,
      "outputs": [
        {
          "output_type": "execute_result",
          "data": {
            "text/plain": [
              "'hello, world!'"
            ],
            "application/vnd.google.colaboratory.intrinsic+json": {
              "type": "string"
            }
          },
          "metadata": {},
          "execution_count": 45
        }
      ]
    },
    {
      "cell_type": "markdown",
      "source": [
        "c. Convert the string to title case."
      ],
      "metadata": {
        "id": "jRCXks9BhMmo"
      }
    },
    {
      "cell_type": "code",
      "source": [
        "s = \"Hello, World!\"\n",
        "s.title() # Converting the string to title case."
      ],
      "metadata": {
        "colab": {
          "base_uri": "https://localhost:8080/",
          "height": 35
        },
        "id": "-NHdJX4vhF7t",
        "outputId": "12e759bb-118f-4695-91bf-7131d2fca1b7"
      },
      "execution_count": 46,
      "outputs": [
        {
          "output_type": "execute_result",
          "data": {
            "text/plain": [
              "'Hello, World!'"
            ],
            "application/vnd.google.colaboratory.intrinsic+json": {
              "type": "string"
            }
          },
          "metadata": {},
          "execution_count": 46
        }
      ]
    },
    {
      "cell_type": "markdown",
      "source": [
        "d. Capitalize the first letter of the string."
      ],
      "metadata": {
        "id": "OADn3rZWhUUs"
      }
    },
    {
      "cell_type": "code",
      "source": [
        "s = \"Hello, World!\"\n",
        "s.capitalize() # Capitalizing the first letter of the string."
      ],
      "metadata": {
        "colab": {
          "base_uri": "https://localhost:8080/",
          "height": 35
        },
        "id": "bpTIHQqmhRcZ",
        "outputId": "abdd608b-7f86-4757-e319-1745a294fc28"
      },
      "execution_count": 47,
      "outputs": [
        {
          "output_type": "execute_result",
          "data": {
            "text/plain": [
              "'Hello, world!'"
            ],
            "application/vnd.google.colaboratory.intrinsic+json": {
              "type": "string"
            }
          },
          "metadata": {},
          "execution_count": 47
        }
      ]
    },
    {
      "cell_type": "markdown",
      "source": [
        "2. Finding Substrings:\n",
        " Given a string s = \"The quick brown fox jumps over the lazy dog\",\n",
        "perform the following:\n",
        "a. Find the position of the substring \"fox\"."
      ],
      "metadata": {
        "id": "jNCkxXNohftg"
      }
    },
    {
      "cell_type": "code",
      "source": [
        "s = \"The quick brown fox jumps over the lazy dog\"\n",
        "s.find(\"fox\") # Finding the position of the substring \"fox\"."
      ],
      "metadata": {
        "colab": {
          "base_uri": "https://localhost:8080/"
        },
        "id": "TA4NAf_khbAF",
        "outputId": "ade29123-32b5-4d97-a25b-3a35bda7db1f"
      },
      "execution_count": 48,
      "outputs": [
        {
          "output_type": "execute_result",
          "data": {
            "text/plain": [
              "16"
            ]
          },
          "metadata": {},
          "execution_count": 48
        }
      ]
    },
    {
      "cell_type": "markdown",
      "source": [
        "b. Check if the substring \"cat\" is in the string."
      ],
      "metadata": {
        "id": "SZphv4VZh1XZ"
      }
    },
    {
      "cell_type": "code",
      "source": [
        "s = \"The quick brown fox jumps over the lazy dog\"\n",
        "s.find(\"cat\") # Checking if the substring \"cat\" is in the string."
      ],
      "metadata": {
        "colab": {
          "base_uri": "https://localhost:8080/"
        },
        "id": "QGdNjTRhhoi7",
        "outputId": "7cf84622-dd19-4b9f-cee9-0bfe42817e24"
      },
      "execution_count": 51,
      "outputs": [
        {
          "output_type": "execute_result",
          "data": {
            "text/plain": [
              "-1"
            ]
          },
          "metadata": {},
          "execution_count": 51
        }
      ]
    },
    {
      "cell_type": "markdown",
      "source": [
        "3. Replacing Substrings:\n",
        " Given a string s = \"The quick brown fox jumps over the lazy dog\",\n",
        "perform the following:\n",
        "a. Replace \"fox\" with \"cat\"."
      ],
      "metadata": {
        "id": "-X8PRAdaiq_6"
      }
    },
    {
      "cell_type": "code",
      "source": [
        "s = \"The quick brown fox jumps over the lazy dog\"\n",
        "s.replace(\"fox\",\"cat\") # Replacing \"fox\" with \"cat\"."
      ],
      "metadata": {
        "colab": {
          "base_uri": "https://localhost:8080/",
          "height": 35
        },
        "id": "_psiW_pbh_RY",
        "outputId": "b9b149d9-09b8-4593-ffb6-84e830fe7d73"
      },
      "execution_count": 52,
      "outputs": [
        {
          "output_type": "execute_result",
          "data": {
            "text/plain": [
              "'The quick brown cat jumps over the lazy dog'"
            ],
            "application/vnd.google.colaboratory.intrinsic+json": {
              "type": "string"
            }
          },
          "metadata": {},
          "execution_count": 52
        }
      ]
    },
    {
      "cell_type": "markdown",
      "source": [
        "b. Replace all spaces with underscores."
      ],
      "metadata": {
        "id": "mFSFkNtzi0zq"
      }
    },
    {
      "cell_type": "code",
      "source": [
        "s = \"The quick brown fox jumps over the lazy dog\"\n",
        "s.replace(\" \",\"_\") # Replacing all spaces with underscores."
      ],
      "metadata": {
        "colab": {
          "base_uri": "https://localhost:8080/",
          "height": 35
        },
        "id": "9PdeSsUtixEG",
        "outputId": "1d2faeaa-9680-4385-a11f-8142aa668ea5"
      },
      "execution_count": 53,
      "outputs": [
        {
          "output_type": "execute_result",
          "data": {
            "text/plain": [
              "'The_quick_brown_fox_jumps_over_the_lazy_dog'"
            ],
            "application/vnd.google.colaboratory.intrinsic+json": {
              "type": "string"
            }
          },
          "metadata": {},
          "execution_count": 53
        }
      ]
    },
    {
      "cell_type": "markdown",
      "source": [
        "c. Split the string into a list of words."
      ],
      "metadata": {
        "id": "0llqWYFQjDEh"
      }
    },
    {
      "cell_type": "code",
      "source": [
        "s = \"The quick brown fox jumps over the lazy dog\"\n",
        "s.split() # Splitting the string into a list of words.\n"
      ],
      "metadata": {
        "colab": {
          "base_uri": "https://localhost:8080/"
        },
        "id": "-JHvIyPXi-ka",
        "outputId": "9de7640e-1c3f-437e-a448-d1d20fdbb73f"
      },
      "execution_count": 54,
      "outputs": [
        {
          "output_type": "execute_result",
          "data": {
            "text/plain": [
              "['The', 'quick', 'brown', 'fox', 'jumps', 'over', 'the', 'lazy', 'dog']"
            ]
          },
          "metadata": {},
          "execution_count": 54
        }
      ]
    },
    {
      "cell_type": "markdown",
      "source": [
        "d. Split the string by the letter 'o'.\n"
      ],
      "metadata": {
        "id": "i3UG71a2jeSR"
      }
    },
    {
      "cell_type": "code",
      "source": [
        "s = \"The quick brown fox jumps over the lazy dog\"\n",
        "s.split(\"o\") # Splitting the string by the letter 'o'."
      ],
      "metadata": {
        "colab": {
          "base_uri": "https://localhost:8080/"
        },
        "id": "eDVncZiZjJ6p",
        "outputId": "509d0be0-e698-4398-bc96-ca760812f7ed"
      },
      "execution_count": 55,
      "outputs": [
        {
          "output_type": "execute_result",
          "data": {
            "text/plain": [
              "['The quick br', 'wn f', 'x jumps ', 'ver the lazy d', 'g']"
            ]
          },
          "metadata": {},
          "execution_count": 55
        }
      ]
    },
    {
      "cell_type": "markdown",
      "source": [
        "4.Joining Strings:\n",
        " Given a list of words\n",
        " words = [\"The\", \"quick\", \"brown\", \"fox\"],\n",
        " perform the following:\n",
        "a. Join the words with spaces."
      ],
      "metadata": {
        "id": "vponOLl7jwNM"
      }
    },
    {
      "cell_type": "code",
      "source": [
        " words = [\"The\", \"quick\", \"brown\", \"fox\"]\n",
        " \" \".join(words) # Joining the words with spaces."
      ],
      "metadata": {
        "colab": {
          "base_uri": "https://localhost:8080/",
          "height": 35
        },
        "id": "E3t47woTjoVO",
        "outputId": "108c8b9f-5aa5-4c5d-bdd2-c5bd729b70f3"
      },
      "execution_count": 56,
      "outputs": [
        {
          "output_type": "execute_result",
          "data": {
            "text/plain": [
              "'The quick brown fox'"
            ],
            "application/vnd.google.colaboratory.intrinsic+json": {
              "type": "string"
            }
          },
          "metadata": {},
          "execution_count": 56
        }
      ]
    },
    {
      "cell_type": "markdown",
      "source": [
        "b. Join the words with hyphens"
      ],
      "metadata": {
        "id": "VLAEeBg1j6_R"
      }
    },
    {
      "cell_type": "code",
      "source": [
        "words = [\"The\", \"quick\", \"brown\", \"fox\"]\n",
        "\"-\".join(words) # Joining the words with hyphens."
      ],
      "metadata": {
        "colab": {
          "base_uri": "https://localhost:8080/",
          "height": 35
        },
        "id": "LCDC3v7Ij23T",
        "outputId": "e11f8b1f-ddbc-4622-b2e3-d54c6e0d54ef"
      },
      "execution_count": 58,
      "outputs": [
        {
          "output_type": "execute_result",
          "data": {
            "text/plain": [
              "'The-quick-brown-fox'"
            ],
            "application/vnd.google.colaboratory.intrinsic+json": {
              "type": "string"
            }
          },
          "metadata": {},
          "execution_count": 58
        }
      ]
    },
    {
      "cell_type": "code",
      "source": [],
      "metadata": {
        "id": "TZG-m3I2j_cm"
      },
      "execution_count": null,
      "outputs": []
    }
  ]
}